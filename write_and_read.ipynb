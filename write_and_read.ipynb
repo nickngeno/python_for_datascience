{
 "cells": [
  {
   "cell_type": "code",
   "execution_count": 1,
   "metadata": {},
   "outputs": [],
   "source": [
    "\"\"\"use the write method to write to a new file called writeexample.text.The line\"hello there i am learning how to write to a file\"\n",
    "is written to it\n",
    "\"\"\"\n",
    "with open(\"writeexample.text\",\"w\") as  writefile:\n",
    "    writefile.write(\"hello there i am learning how to write to a file\")"
   ]
  },
  {
   "cell_type": "code",
   "execution_count": 2,
   "metadata": {},
   "outputs": [
    {
     "name": "stdout",
     "output_type": "stream",
     "text": [
      "hello there i am learning how to write to a file\n"
     ]
    }
   ],
   "source": [
    "\"\"\"\n",
    "use the read methid to read a file named writeexample.text.use with open function because it explicitly closes the file\n",
    "after reading it\n",
    "\"\"\"\n",
    "with open (\"writeexample.text\",\"r\") as readfile:\n",
    "    print (readfile.read())"
   ]
  },
  {
   "cell_type": "code",
   "execution_count": 9,
   "metadata": {},
   "outputs": [],
   "source": [
    "#how to write multiple lines on a file\n",
    "Lines = [\"This is line A\\n\", \"This is line B\\n\", \"This is line C\\n\"]\n",
    "with open(\"writeexample.text\",\"w\") as writefile:\n",
    "    for lines in Lines:\n",
    "         writefile.write(lines)\n",
    "   \n",
    "    \n",
    "    "
   ]
  },
  {
   "cell_type": "code",
   "execution_count": 10,
   "metadata": {},
   "outputs": [
    {
     "name": "stdout",
     "output_type": "stream",
     "text": [
      "This is line A\n",
      "This is line B\n",
      "This is line C\n",
      "\n"
     ]
    }
   ],
   "source": [
    "# read the file to see if the write worked\n",
    "with open(\"writeexample.text\",\"r\") as readfile:\n",
    "        print(readfile.read())"
   ]
  },
  {
   "cell_type": "code",
   "execution_count": 11,
   "metadata": {},
   "outputs": [],
   "source": [
    "# appending a line to a file\n",
    "\"\"\"\n",
    "append the new line to the writeexample.text file using the append method\n",
    "\"\"\"\n",
    "newline=\"This is a new line to be appended\"\n",
    "with open(\"writeexample.text\",\"a\") as appendfile:\n",
    "    appendfile.write(newline)"
   ]
  },
  {
   "cell_type": "code",
   "execution_count": 15,
   "metadata": {},
   "outputs": [
    {
     "name": "stdout",
     "output_type": "stream",
     "text": [
      "This is line A\n",
      "This is line B\n",
      "This is line C\n",
      "This is a new line to be appended\n"
     ]
    }
   ],
   "source": [
    "# verifying if the new line has been appended \n",
    "with open(\"writeexample.text\",\"r\") as readfile:\n",
    "    print(readfile.read())\n",
    "    "
   ]
  }
 ],
 "metadata": {
  "kernelspec": {
   "display_name": "Python 3",
   "language": "python",
   "name": "python3"
  },
  "language_info": {
   "codemirror_mode": {
    "name": "ipython",
    "version": 3
   },
   "file_extension": ".py",
   "mimetype": "text/x-python",
   "name": "python",
   "nbconvert_exporter": "python",
   "pygments_lexer": "ipython3",
   "version": "3.7.3"
  }
 },
 "nbformat": 4,
 "nbformat_minor": 2
}
